{
 "cells": [
  {
   "cell_type": "code",
   "execution_count": null,
   "id": "5a414f9d-0b9c-4cc7-a218-b6c703b1fc0d",
   "metadata": {},
   "outputs": [],
   "source": [
    "# !pip install bokeh"
   ]
  },
  {
   "cell_type": "code",
   "execution_count": 8,
   "id": "a9af8249-ce18-45aa-85bf-64c45cb09b10",
   "metadata": {},
   "outputs": [
    {
     "data": {
      "application/vnd.jupyter.widget-view+json": {
       "model_id": "69237b5600b844fc8b8caef74d70c091",
       "version_major": 2,
       "version_minor": 0
      },
      "text/plain": [
       "VBox(children=(Dropdown(options=('Asia', 'Europe', 'Africa'), value='Asia'), Dropdown(options=('India', 'China…"
      ]
     },
     "metadata": {},
     "output_type": "display_data"
    }
   ],
   "source": [
    "import datetime\n",
    "import ipywidgets as ipyw\n",
    "\n",
    "from bokeh.models.widgets.inputs import AutocompleteInput\n",
    "from IPython.display import display\n",
    "\n",
    "dp1 = ipyw.Dropdown(options = ['Asia','Europe','Africa'])\n",
    "dp2 = ipyw.Dropdown(options = ['India','China','Pakistan','Tibet'])\n",
    "asia_list = ['India','China','Pakistan','Tibet']\n",
    "europe_list = ['Germany','France','Italy']\n",
    "africa_list = ['south africa','Nigeria','Kenya']\n",
    "global_vbox = ipyw.VBox()\n",
    "global_vbox.children = [dp1,dp2]\n",
    "display(global_vbox)\n",
    "def continent_change_event(x):\n",
    "    global dp1\n",
    "    global dp2\n",
    "    list_name = dp1.value\n",
    "    dp2.index = None #This line is very important for setting the values for widgets other than widget with observe method\n",
    "    dp2.index = 0\n",
    "    if(list_name == 'Asia'):\n",
    "        dp2.options = asia_list\n",
    "    elif(list_name == 'Europe'):\n",
    "        dp2.options = europe_list\n",
    "    else:\n",
    "        dp2.options = africa_list\n",
    "\n",
    "dp1.observe(continent_change_event)"
   ]
  },
  {
   "cell_type": "code",
   "execution_count": null,
   "id": "72c74612-62e1-4c45-b7db-e0324612cb71",
   "metadata": {},
   "outputs": [],
   "source": []
  }
 ],
 "metadata": {
  "kernelspec": {
   "display_name": "Python 3 (ipykernel)",
   "language": "python",
   "name": "python3"
  },
  "language_info": {
   "codemirror_mode": {
    "name": "ipython",
    "version": 3
   },
   "file_extension": ".py",
   "mimetype": "text/x-python",
   "name": "python",
   "nbconvert_exporter": "python",
   "pygments_lexer": "ipython3",
   "version": "3.11.6"
  }
 },
 "nbformat": 4,
 "nbformat_minor": 5
}
